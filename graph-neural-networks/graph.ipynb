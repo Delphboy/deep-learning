{
 "cells": [
  {
   "cell_type": "markdown",
   "id": "b5bb4944-7bf4-4c41-9671-de72ab4ac6b1",
   "metadata": {},
   "source": [
    "# Graphs"
   ]
  },
  {
   "cell_type": "code",
   "execution_count": 10,
   "id": "29c8c584-c377-42c4-8a9f-236e7590831b",
   "metadata": {},
   "outputs": [],
   "source": [
    "# import libraries\n",
    "import numpy as np\n",
    "import networkx as nx\n",
    "import matplotlib.pyplot as plt"
   ]
  },
  {
   "cell_type": "markdown",
   "id": "76f7297b-47ba-489b-8383-dc4d05227d0e",
   "metadata": {
    "tags": []
   },
   "source": [
    "## Defining a Graph\n",
    "\n",
    "Before the Neural Network component, we must first define a graph:\n",
    "\n",
    "$$G = (V, E)$$\n",
    "\n",
    "$$V = \\{v_0, ..., v_n\\} \\textit{ where } v_x \\in \\mathbb{R}$$\n",
    "\n",
    "$$E = \\{e_0, ..., e_n\\} \\textit{ where } e_x = (v_x, v_y) $$\n",
    "\n",
    "Note that an edge is said to be undirected if $(v_x, v_y) = (v_y, v_x)$ and directed if they are unequal.\n",
    "\n",
    "## Representing a Graph in Code\n",
    "\n",
    "We will represent a graph using an adjacancy matrix, a table that shows the nodes that are connected to one another. In an unweighted graph, the adjacancy matrix will just contains 1s to represent an edge and 0s when no edge is present. These values are changed to the weights of the edges should the graph be weighted. Undirected graphs will have a symmetric adjacancy matrix.\n",
    "\n",
    "An example unweighted, undirected graph can be seen below\n",
    "\n",
    "| - | A | B | C | D | E |\n",
    "|---|---|---|---|---|---|\n",
    "| A | 0 | 1 | 0 | 1 | 0 |\n",
    "| B | 1 | 0 | 1 | 0 | 1 |\n",
    "| C | 0 | 1 | 0 | 0 | 0 |\n",
    "| D | 1 | 0 | 0 | 0 | 1 |\n",
    "| E | 0 | 1 | 0 | 1 | 0 |"
   ]
  },
  {
   "cell_type": "code",
   "execution_count": 6,
   "id": "dab0ab31-1878-4c94-8a3b-5e10127cf3b2",
   "metadata": {},
   "outputs": [
    {
     "data": {
      "text/plain": [
       "array([[0, 1, 0, 1, 0],\n",
       "       [1, 0, 1, 0, 1],\n",
       "       [0, 1, 0, 0, 0],\n",
       "       [1, 0, 0, 0, 1],\n",
       "       [0, 1, 0, 1, 0]])"
      ]
     },
     "execution_count": 6,
     "metadata": {},
     "output_type": "execute_result"
    }
   ],
   "source": [
    "adjancy_matrix = np.array([[0, 1, 0, 1, 0],\n",
    "                           [1, 0, 1, 0, 1],\n",
    "                           [0, 1, 0, 0, 0],\n",
    "                           [1, 0, 0, 0, 1],\n",
    "                           [0, 1, 0, 1, 0]])\n",
    "adjancy_matrix"
   ]
  },
  {
   "cell_type": "code",
   "execution_count": 15,
   "id": "f83b69ff-f4af-47d3-9f4d-4c46afda2606",
   "metadata": {},
   "outputs": [
    {
     "data": {
      "image/png": "[encoded data removed]",
      "text/plain": [
       "<Figure size 432x288 with 1 Axes>"
      ]
     },
     "metadata": {},
     "output_type": "display_data"
    }
   ],
   "source": [
    "def show_graph_with_labels(adjacency_matrix, mylabels):\n",
    "    rows, cols = np.where(adjacency_matrix == 1)\n",
    "    edges = zip(rows.tolist(), cols.tolist())\n",
    "    \n",
    "    gr = nx.Graph()\n",
    "    gr.add_edges_from(edges)\n",
    "    \n",
    "    nx.draw(gr, node_size=500, labels=mylabels, with_labels=True)\n",
    "    \n",
    "    plt.show()\n",
    "\n",
    "show_graph_with_labels(adjancy_matrix, {0:'A', 1:'B', 2:'C', 3:'D', 4:'E'})"
   ]
  }
 ],
 "metadata": {
  "kernelspec": {
   "display_name": "Python 3 (ipykernel)",
   "language": "python",
   "name": "python3"
  },
  "language_info": {
   "codemirror_mode": {
    "name": "ipython",
    "version": 3
   },
   "file_extension": ".py",
   "mimetype": "text/x-python",
   "name": "python",
   "nbconvert_exporter": "python",
   "pygments_lexer": "ipython3",
   "version": "3.8.12"
  }
 },
 "nbformat": 4,
 "nbformat_minor": 5
}
