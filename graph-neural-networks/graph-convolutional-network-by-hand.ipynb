{
 "cells": [
  {
   "cell_type": "markdown",
   "id": "a218a3f7-f715-4cad-ba84-514b4ed21c4d",
   "metadata": {},
   "source": [
    "# Graph Convolutional Network (By Hand)\n",
    "\n",
    "This notebook contains an implementation of a basic GCN done by hand using the Numpy library. A definition and implementation of a graph is shown in [this notebook](graph-neural-networks/graph.ipynb)."
   ]
  },
  {
   "cell_type": "code",
   "execution_count": 4,
   "id": "a82e88f8-b40a-420e-9982-ed8e5915c336",
   "metadata": {},
   "outputs": [],
   "source": [
    "# import libraries\n",
    "import numpy as np\n",
    "import torch\n",
    "from torch_geometric.data import Data\n",
    "\n",
    "# Display the graph\n",
    "import networkx as nx\n",
    "import matplotlib.pyplot as plt"
   ]
  },
  {
   "cell_type": "markdown",
   "id": "44cdeaa1-df9d-4757-bfc1-3df44450eaeb",
   "metadata": {},
   "source": [
    "## Pulling in The Data"
   ]
  },
  {
   "cell_type": "code",
   "execution_count": 15,
   "id": "e634110e-720d-4437-a52d-0b335329d458",
   "metadata": {},
   "outputs": [
    {
     "data": {
      "text/plain": [
       "1"
      ]
     },
     "execution_count": 15,
     "metadata": {},
     "output_type": "execute_result"
    }
   ],
   "source": [
    "def show_graph_with_labels(adjacency_matrix):\n",
    "    rows, cols = np.where(adjacency_matrix == 1)\n",
    "    edges = zip(rows.tolist(), cols.tolist())\n",
    "    gr = nx.Graph()\n",
    "    gr.add_edges_from(edges)\n",
    "    nx.draw(gr, node_size=500, with_labels=False)\n",
    "    plt.show()\n",
    "\n",
    "from torch_geometric.datasets import KarateClub\n",
    "\n",
    "dataset = KarateClub()"
   ]
  }
 ],
 "metadata": {
  "kernelspec": {
   "display_name": "Python 3 (ipykernel)",
   "language": "python",
   "name": "python3"
  },
  "language_info": {
   "codemirror_mode": {
    "name": "ipython",
    "version": 3
   },
   "file_extension": ".py",
   "mimetype": "text/x-python",
   "name": "python",
   "nbconvert_exporter": "python",
   "pygments_lexer": "ipython3",
   "version": "3.8.12"
  }
 },
 "nbformat": 4,
 "nbformat_minor": 5
}
